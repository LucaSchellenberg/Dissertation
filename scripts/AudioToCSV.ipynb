{
  "nbformat": 4,
  "nbformat_minor": 0,
  "metadata": {
    "colab": {
      "provenance": []
    },
    "kernelspec": {
      "name": "python3",
      "display_name": "Python 3"
    },
    "language_info": {
      "name": "python"
    }
  },
  "cells": [
    {
      "cell_type": "code",
      "execution_count": 1,
      "metadata": {
        "colab": {
          "base_uri": "https://localhost:8080/"
        },
        "id": "obIq2GVQ6yZY",
        "outputId": "090ff943-cd81-4307-f108-41c2a565b942"
      },
      "outputs": [
        {
          "output_type": "stream",
          "name": "stdout",
          "text": [
            "✅ Success! Created 'manifest.csv' with 341 filenames.\n",
            "You can find the file in the Colab file browser on the left.\n"
          ]
        }
      ],
      "source": [
        "import os\n",
        "import csv\n",
        "\n",
        "# --- Configuration ---\n",
        "# Your path is now correctly handled with quotes.\n",
        "folder_path = '/content/drive/MyDrive/Colab Notebooks/Dissertation/Audio Samples'\n",
        "output_csv_file = 'manifest.csv'\n",
        "\n",
        "# --- Script ---\n",
        "try:\n",
        "    # Get a list of all files in the directory\n",
        "    all_files = os.listdir(folder_path)\n",
        "\n",
        "    # Filter the list to include only .wav files\n",
        "    wav_files = [f for f in all_files if f.endswith('.wav')]\n",
        "    wav_files.sort() # Sort them alphabetically\n",
        "\n",
        "    # Create and write to the CSV file\n",
        "    with open(output_csv_file, 'w', newline='') as csvfile:\n",
        "        writer = csv.writer(csvfile)\n",
        "\n",
        "        # Write the header row\n",
        "        writer.writerow(['filename', 'description'])\n",
        "\n",
        "        # Write each filename to a new row, leaving the description blank\n",
        "        for filename in wav_files:\n",
        "            writer.writerow([filename, '']) # The empty string is a placeholder\n",
        "\n",
        "    print(f\"✅ Success! Created '{output_csv_file}' with {len(wav_files)} filenames.\")\n",
        "    print(\"You can find the file in the Colab file browser on the left.\")\n",
        "\n",
        "except FileNotFoundError:\n",
        "    print(f\"❌ Error: The folder '{folder_path}' was not found.\")\n",
        "    print(\"Please check that the path is spelled correctly and that your Google Drive is mounted.\")"
      ]
    }
  ]
}